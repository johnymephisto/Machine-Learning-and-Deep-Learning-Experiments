{
  "nbformat": 4,
  "nbformat_minor": 0,
  "metadata": {
    "colab": {
      "name": "Simple RNN",
      "version": "0.3.2",
      "provenance": [],
      "collapsed_sections": [],
      "include_colab_link": true
    },
    "kernelspec": {
      "name": "python3",
      "display_name": "Python 3"
    }
  },
  "cells": [
    {
      "cell_type": "markdown",
      "metadata": {
        "id": "view-in-github",
        "colab_type": "text"
      },
      "source": [
        "<a href=\"https://colab.research.google.com/github/johnymephisto/Machine-Learning-and-Deep-Learning-Experiments/blob/master/Simple_RNN.ipynb\" target=\"_parent\"><img src=\"https://colab.research.google.com/assets/colab-badge.svg\" alt=\"Open In Colab\"/></a>"
      ]
    },
    {
      "cell_type": "code",
      "metadata": {
        "id": "mochcpCpmUqS",
        "colab_type": "code",
        "outputId": "9a709fb8-4783-4301-f05b-3aff50eadf59",
        "colab": {
          "base_uri": "https://localhost:8080/",
          "height": 202
        }
      },
      "source": [
        "import pandas as pd\n",
        "import numpy as np\n",
        "import matplotlib.pyplot as plt\n",
        "from keras.models import Sequential\n",
        "from keras.layers import Dense, SimpleRNN\n",
        "%matplotlib inline\n",
        "\n",
        "# convert into dataset matrix\n",
        "def convertToMatrix(data, step):\n",
        "    X, Y =[], []\n",
        "    for i in range(len(data)-step):\n",
        "        d=i+step  \n",
        "        X.append(data[i:d,])\n",
        "        Y.append(data[d,])\n",
        "    return np.array(X), np.array(Y)\n",
        "\n",
        "step = 4\n",
        "N =   1000\n",
        "Tp = 600    \n",
        "\n",
        "t=np.arange(0,N)\n",
        "x=np.sin(0.02*t) + 2*np.random.rand(N)\n",
        "df = pd.DataFrame(x)\n",
        "df.head()"
      ],
      "execution_count": 0,
      "outputs": [
        {
          "output_type": "execute_result",
          "data": {
            "text/html": [
              "<div>\n",
              "<style scoped>\n",
              "    .dataframe tbody tr th:only-of-type {\n",
              "        vertical-align: middle;\n",
              "    }\n",
              "\n",
              "    .dataframe tbody tr th {\n",
              "        vertical-align: top;\n",
              "    }\n",
              "\n",
              "    .dataframe thead th {\n",
              "        text-align: right;\n",
              "    }\n",
              "</style>\n",
              "<table border=\"1\" class=\"dataframe\">\n",
              "  <thead>\n",
              "    <tr style=\"text-align: right;\">\n",
              "      <th></th>\n",
              "      <th>0</th>\n",
              "    </tr>\n",
              "  </thead>\n",
              "  <tbody>\n",
              "    <tr>\n",
              "      <th>0</th>\n",
              "      <td>0.343936</td>\n",
              "    </tr>\n",
              "    <tr>\n",
              "      <th>1</th>\n",
              "      <td>1.858108</td>\n",
              "    </tr>\n",
              "    <tr>\n",
              "      <th>2</th>\n",
              "      <td>0.172395</td>\n",
              "    </tr>\n",
              "    <tr>\n",
              "      <th>3</th>\n",
              "      <td>0.723194</td>\n",
              "    </tr>\n",
              "    <tr>\n",
              "      <th>4</th>\n",
              "      <td>1.557666</td>\n",
              "    </tr>\n",
              "  </tbody>\n",
              "</table>\n",
              "</div>"
            ],
            "text/plain": [
              "          0\n",
              "0  0.343936\n",
              "1  1.858108\n",
              "2  0.172395\n",
              "3  0.723194\n",
              "4  1.557666"
            ]
          },
          "metadata": {
            "tags": []
          },
          "execution_count": 3
        }
      ]
    },
    {
      "cell_type": "code",
      "metadata": {
        "id": "1oh1p5Vg1IgJ",
        "colab_type": "code",
        "outputId": "eefccb90-f7ab-4be0-f898-5f368d5a1978",
        "colab": {
          "base_uri": "https://localhost:8080/",
          "height": 269
        }
      },
      "source": [
        "plt.plot(df)\n",
        "plt.show()"
      ],
      "execution_count": 0,
      "outputs": [
        {
          "output_type": "display_data",
          "data": {
            "image/png": "[encoded data removed]",
            "text/plain": [
              "<Figure size 432x288 with 1 Axes>"
            ]
          },
          "metadata": {
            "tags": []
          }
        }
      ]
    },
    {
      "cell_type": "code",
      "metadata": {
        "id": "zGURisgOmrOq",
        "colab_type": "code",
        "outputId": "09a828b5-3dbb-4784-9bc3-f35b0ace55be",
        "colab": {
          "base_uri": "https://localhost:8080/",
          "height": 35
        }
      },
      "source": [
        "values=df.values\n",
        "train,test = values[0:Tp,:], values[Tp:N,:]\n",
        "\n",
        "# add step elements into train and test\n",
        "test = np.append(test,np.repeat(test[-1,],step))\n",
        "train = np.append(train,np.repeat(train[-1,],step))\n",
        " \n",
        "trainX,trainY =convertToMatrix(train,step)\n",
        "testX,testY =convertToMatrix(test,step)\n",
        "trainX = np.reshape(trainX, (trainX.shape[0], 1, trainX.shape[1]))\n",
        "testX = np.reshape(testX, (testX.shape[0], 1, testX.shape[1]))\n",
        "\n",
        "trainX.shape"
      ],
      "execution_count": 0,
      "outputs": [
        {
          "output_type": "execute_result",
          "data": {
            "text/plain": [
              "(600, 1, 4)"
            ]
          },
          "metadata": {
            "tags": []
          },
          "execution_count": 5
        }
      ]
    },
    {
      "cell_type": "code",
      "metadata": {
        "id": "cNsorFP7aBMq",
        "colab_type": "code",
        "outputId": "3f1770fe-b4d0-4936-dbd2-c33dfa040d7f",
        "colab": {
          "base_uri": "https://localhost:8080/",
          "height": 35
        }
      },
      "source": [
        "trainX[0]"
      ],
      "execution_count": 0,
      "outputs": [
        {
          "output_type": "execute_result",
          "data": {
            "text/plain": [
              "array([[0.34393642, 1.85810805, 0.17239496, 0.72319397]])"
            ]
          },
          "metadata": {
            "tags": []
          },
          "execution_count": 6
        }
      ]
    },
    {
      "cell_type": "code",
      "metadata": {
        "id": "vg-C6rlY1LlV",
        "colab_type": "code",
        "outputId": "1c0d0cf0-0338-4f92-a402-2e0e2b3c56a3",
        "colab": {
          "base_uri": "https://localhost:8080/",
          "height": 35
        }
      },
      "source": [
        "trainY[0]"
      ],
      "execution_count": 0,
      "outputs": [
        {
          "output_type": "execute_result",
          "data": {
            "text/plain": [
              "1.5576662706726032"
            ]
          },
          "metadata": {
            "tags": []
          },
          "execution_count": 7
        }
      ]
    },
    {
      "cell_type": "code",
      "metadata": {
        "colab_type": "code",
        "id": "RvgM1Nn4q1Pm",
        "outputId": "2ddd8fa8-a29b-432c-8243-56302a8c3894",
        "colab": {
          "base_uri": "https://localhost:8080/",
          "height": 419
        }
      },
      "source": [
        "model = Sequential()\n",
        "model.add(SimpleRNN(units=32, input_shape=(1,step), activation=\"relu\", name='RNN_Layer'))\n",
        "model.add(Dense(8, activation=\"relu\", name='Dense_Layer_Hidden')) \n",
        "model.add(Dense(1, name='Dense_Layer_Output'))\n",
        "model.compile(loss='mean_squared_error', optimizer='rmsprop')\n",
        "model.summary()"
      ],
      "execution_count": 0,
      "outputs": [
        {
          "output_type": "stream",
          "text": [
            "WARNING: Logging before flag parsing goes to stderr.\n",
            "W0627 14:39:18.402643 140235267413888 deprecation_wrapper.py:119] From /usr/local/lib/python3.6/dist-packages/keras/backend/tensorflow_backend.py:74: The name tf.get_default_graph is deprecated. Please use tf.compat.v1.get_default_graph instead.\n",
            "\n",
            "W0627 14:39:18.439829 140235267413888 deprecation_wrapper.py:119] From /usr/local/lib/python3.6/dist-packages/keras/backend/tensorflow_backend.py:517: The name tf.placeholder is deprecated. Please use tf.compat.v1.placeholder instead.\n",
            "\n",
            "W0627 14:39:18.445946 140235267413888 deprecation_wrapper.py:119] From /usr/local/lib/python3.6/dist-packages/keras/backend/tensorflow_backend.py:4138: The name tf.random_uniform is deprecated. Please use tf.random.uniform instead.\n",
            "\n",
            "W0627 14:39:18.602117 140235267413888 deprecation_wrapper.py:119] From /usr/local/lib/python3.6/dist-packages/keras/optimizers.py:790: The name tf.train.Optimizer is deprecated. Please use tf.compat.v1.train.Optimizer instead.\n",
            "\n"
          ],
          "name": "stderr"
        },
        {
          "output_type": "stream",
          "text": [
            "_________________________________________________________________\n",
            "Layer (type)                 Output Shape              Param #   \n",
            "=================================================================\n",
            "RNN_Layer (SimpleRNN)        (None, 32)                1184      \n",
            "_________________________________________________________________\n",
            "Dense_Layer_Hidden (Dense)   (None, 8)                 264       \n",
            "_________________________________________________________________\n",
            "Dense_Layer_Output (Dense)   (None, 1)                 9         \n",
            "=================================================================\n",
            "Total params: 1,457\n",
            "Trainable params: 1,457\n",
            "Non-trainable params: 0\n",
            "_________________________________________________________________\n"
          ],
          "name": "stdout"
        }
      ]
    },
    {
      "cell_type": "code",
      "metadata": {
        "id": "c1MckCXqnMs6",
        "colab_type": "code",
        "outputId": "3e5ca4ed-8231-4349-9a6d-bf61d9d2464e",
        "colab": {
          "base_uri": "https://localhost:8080/",
          "height": 1000
        }
      },
      "source": [
        "model.fit(trainX,trainY, epochs=100, batch_size=16, verbose=2)\n",
        "trainPredict = model.predict(trainX)\n",
        "testPredict= model.predict(testX)\n",
        "predicted=np.concatenate((trainPredict,testPredict),axis=0)\n",
        "\n",
        "trainScore = model.evaluate(trainX, trainY, verbose=0)\n",
        "print(trainScore)"
      ],
      "execution_count": 0,
      "outputs": [
        {
          "output_type": "stream",
          "text": [
            "W0627 14:39:35.724370 140235267413888 deprecation_wrapper.py:119] From /usr/local/lib/python3.6/dist-packages/keras/backend/tensorflow_backend.py:986: The name tf.assign_add is deprecated. Please use tf.compat.v1.assign_add instead.\n",
            "\n",
            "W0627 14:39:35.733447 140235267413888 deprecation_wrapper.py:119] From /usr/local/lib/python3.6/dist-packages/keras/backend/tensorflow_backend.py:973: The name tf.assign is deprecated. Please use tf.compat.v1.assign instead.\n",
            "\n"
          ],
          "name": "stderr"
        },
        {
          "output_type": "stream",
          "text": [
            "Epoch 1/100\n",
            " - 1s - loss: 0.7393\n",
            "Epoch 2/100\n",
            " - 0s - loss: 0.4081\n",
            "Epoch 3/100\n",
            " - 0s - loss: 0.3948\n",
            "Epoch 4/100\n",
            " - 0s - loss: 0.3936\n",
            "Epoch 5/100\n",
            " - 0s - loss: 0.3881\n",
            "Epoch 6/100\n",
            " - 0s - loss: 0.3881\n",
            "Epoch 7/100\n",
            " - 0s - loss: 0.3853\n",
            "Epoch 8/100\n",
            " - 0s - loss: 0.3865\n",
            "Epoch 9/100\n",
            " - 0s - loss: 0.3828\n",
            "Epoch 10/100\n",
            " - 0s - loss: 0.3826\n",
            "Epoch 11/100\n",
            " - 0s - loss: 0.3838\n",
            "Epoch 12/100\n",
            " - 0s - loss: 0.3812\n",
            "Epoch 13/100\n",
            " - 0s - loss: 0.3796\n",
            "Epoch 14/100\n",
            " - 0s - loss: 0.3779\n",
            "Epoch 15/100\n",
            " - 0s - loss: 0.3778\n",
            "Epoch 16/100\n",
            " - 0s - loss: 0.3752\n",
            "Epoch 17/100\n",
            " - 0s - loss: 0.3790\n",
            "Epoch 18/100\n",
            " - 0s - loss: 0.3771\n",
            "Epoch 19/100\n",
            " - 0s - loss: 0.3773\n",
            "Epoch 20/100\n",
            " - 0s - loss: 0.3761\n",
            "Epoch 21/100\n",
            " - 0s - loss: 0.3768\n",
            "Epoch 22/100\n",
            " - 0s - loss: 0.3739\n",
            "Epoch 23/100\n",
            " - 0s - loss: 0.3752\n",
            "Epoch 24/100\n",
            " - 0s - loss: 0.3766\n",
            "Epoch 25/100\n",
            " - 0s - loss: 0.3724\n",
            "Epoch 26/100\n",
            " - 0s - loss: 0.3697\n",
            "Epoch 27/100\n",
            " - 0s - loss: 0.3727\n",
            "Epoch 28/100\n",
            " - 0s - loss: 0.3719\n",
            "Epoch 29/100\n",
            " - 0s - loss: 0.3724\n",
            "Epoch 30/100\n",
            " - 0s - loss: 0.3704\n",
            "Epoch 31/100\n",
            " - 0s - loss: 0.3661\n",
            "Epoch 32/100\n",
            " - 0s - loss: 0.3704\n",
            "Epoch 33/100\n",
            " - 0s - loss: 0.3702\n",
            "Epoch 34/100\n",
            " - 0s - loss: 0.3680\n",
            "Epoch 35/100\n",
            " - 0s - loss: 0.3697\n",
            "Epoch 36/100\n",
            " - 0s - loss: 0.3665\n",
            "Epoch 37/100\n",
            " - 0s - loss: 0.3647\n",
            "Epoch 38/100\n",
            " - 0s - loss: 0.3674\n",
            "Epoch 39/100\n",
            " - 0s - loss: 0.3674\n",
            "Epoch 40/100\n",
            " - 0s - loss: 0.3616\n",
            "Epoch 41/100\n",
            " - 0s - loss: 0.3668\n",
            "Epoch 42/100\n",
            " - 0s - loss: 0.3662\n",
            "Epoch 43/100\n",
            " - 0s - loss: 0.3640\n",
            "Epoch 44/100\n",
            " - 0s - loss: 0.3615\n",
            "Epoch 45/100\n",
            " - 0s - loss: 0.3645\n",
            "Epoch 46/100\n",
            " - 0s - loss: 0.3611\n",
            "Epoch 47/100\n",
            " - 0s - loss: 0.3625\n",
            "Epoch 48/100\n",
            " - 0s - loss: 0.3584\n",
            "Epoch 49/100\n",
            " - 0s - loss: 0.3610\n",
            "Epoch 50/100\n",
            " - 0s - loss: 0.3615\n",
            "Epoch 51/100\n",
            " - 0s - loss: 0.3578\n",
            "Epoch 52/100\n",
            " - 0s - loss: 0.3603\n",
            "Epoch 53/100\n",
            " - 0s - loss: 0.3594\n",
            "Epoch 54/100\n",
            " - 0s - loss: 0.3581\n",
            "Epoch 55/100\n",
            " - 0s - loss: 0.3586\n",
            "Epoch 56/100\n",
            " - 0s - loss: 0.3602\n",
            "Epoch 57/100\n",
            " - 0s - loss: 0.3579\n",
            "Epoch 58/100\n",
            " - 0s - loss: 0.3612\n",
            "Epoch 59/100\n",
            " - 0s - loss: 0.3573\n",
            "Epoch 60/100\n",
            " - 0s - loss: 0.3569\n",
            "Epoch 61/100\n",
            " - 0s - loss: 0.3602\n",
            "Epoch 62/100\n",
            " - 0s - loss: 0.3566\n",
            "Epoch 63/100\n",
            " - 0s - loss: 0.3556\n",
            "Epoch 64/100\n",
            " - 0s - loss: 0.3580\n",
            "Epoch 65/100\n",
            " - 0s - loss: 0.3533\n",
            "Epoch 66/100\n",
            " - 0s - loss: 0.3579\n",
            "Epoch 67/100\n",
            " - 0s - loss: 0.3564\n",
            "Epoch 68/100\n",
            " - 0s - loss: 0.3514\n",
            "Epoch 69/100\n",
            " - 0s - loss: 0.3525\n",
            "Epoch 70/100\n",
            " - 0s - loss: 0.3519\n",
            "Epoch 71/100\n",
            " - 0s - loss: 0.3537\n",
            "Epoch 72/100\n",
            " - 0s - loss: 0.3525\n",
            "Epoch 73/100\n",
            " - 0s - loss: 0.3502\n",
            "Epoch 74/100\n",
            " - 0s - loss: 0.3529\n",
            "Epoch 75/100\n",
            " - 0s - loss: 0.3532\n",
            "Epoch 76/100\n",
            " - 0s - loss: 0.3505\n",
            "Epoch 77/100\n",
            " - 0s - loss: 0.3498\n",
            "Epoch 78/100\n",
            " - 0s - loss: 0.3507\n",
            "Epoch 79/100\n",
            " - 0s - loss: 0.3517\n",
            "Epoch 80/100\n",
            " - 0s - loss: 0.3507\n",
            "Epoch 81/100\n",
            " - 0s - loss: 0.3494\n",
            "Epoch 82/100\n",
            " - 0s - loss: 0.3506\n",
            "Epoch 83/100\n",
            " - 0s - loss: 0.3474\n",
            "Epoch 84/100\n",
            " - 0s - loss: 0.3492\n",
            "Epoch 85/100\n",
            " - 0s - loss: 0.3460\n",
            "Epoch 86/100\n",
            " - 0s - loss: 0.3486\n",
            "Epoch 87/100\n",
            " - 0s - loss: 0.3480\n",
            "Epoch 88/100\n",
            " - 0s - loss: 0.3471\n",
            "Epoch 89/100\n",
            " - 0s - loss: 0.3463\n",
            "Epoch 90/100\n",
            " - 0s - loss: 0.3488\n",
            "Epoch 91/100\n",
            " - 0s - loss: 0.3438\n",
            "Epoch 92/100\n",
            " - 0s - loss: 0.3458\n",
            "Epoch 93/100\n",
            " - 0s - loss: 0.3461\n",
            "Epoch 94/100\n",
            " - 0s - loss: 0.3450\n",
            "Epoch 95/100\n",
            " - 0s - loss: 0.3453\n",
            "Epoch 96/100\n",
            " - 0s - loss: 0.3460\n",
            "Epoch 97/100\n",
            " - 0s - loss: 0.3452\n",
            "Epoch 98/100\n",
            " - 0s - loss: 0.3433\n",
            "Epoch 99/100\n",
            " - 0s - loss: 0.3431\n",
            "Epoch 100/100\n",
            " - 0s - loss: 0.3416\n",
            "0.3407646969954173\n"
          ],
          "name": "stdout"
        }
      ]
    },
    {
      "cell_type": "code",
      "metadata": {
        "id": "3UTXdFy1nWNH",
        "colab_type": "code",
        "outputId": "090d5766-b01a-4eed-a00b-e7d418b162ba",
        "colab": {
          "base_uri": "https://localhost:8080/",
          "height": 269
        }
      },
      "source": [
        "index = df.index.values\n",
        "plt.plot(index,df)\n",
        "plt.plot(index,predicted)\n",
        "plt.axvline(df.index[Tp], c=\"r\")\n",
        "plt.show()"
      ],
      "execution_count": 0,
      "outputs": [
        {
          "output_type": "display_data",
          "data": {
            "image/png": "[encoded data removed]",
            "text/plain": [
              "<Figure size 432x288 with 1 Axes>"
            ]
          },
          "metadata": {
            "tags": []
          }
        }
      ]
    }
  ]
}