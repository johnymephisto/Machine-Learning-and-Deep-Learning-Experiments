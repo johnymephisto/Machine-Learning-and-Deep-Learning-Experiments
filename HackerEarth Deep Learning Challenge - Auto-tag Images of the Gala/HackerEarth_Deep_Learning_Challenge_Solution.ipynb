{
  "nbformat": 4,
  "nbformat_minor": 0,
  "metadata": {
    "colab": {
      "name": "HackerEarth Deep Learning Challenge Solution.ipynb",
      "provenance": [],
      "collapsed_sections": []
    },
    "kernelspec": {
      "name": "python3",
      "display_name": "Python 3"
    },
    "accelerator": "GPU",
    "widgets": {
      "application/vnd.jupyter.widget-state+json": {
        "82900252047c4ada9d057a9fc59fafb1": {
          "model_module": "@jupyter-widgets/controls",
          "model_name": "HBoxModel",
          "state": {
            "_view_name": "HBoxView",
            "_dom_classes": [],
            "_model_name": "HBoxModel",
            "_view_module": "@jupyter-widgets/controls",
            "_model_module_version": "1.5.0",
            "_view_count": null,
            "_view_module_version": "1.5.0",
            "box_style": "",
            "layout": "IPY_MODEL_80408670e8344d7d9ffc428fba0088e3",
            "_model_module": "@jupyter-widgets/controls",
            "children": [
              "IPY_MODEL_e390293c324b44a3a46eda6cf1eadce5",
              "IPY_MODEL_f50c99720e30437aaec892392282919c"
            ]
          }
        },
        "80408670e8344d7d9ffc428fba0088e3": {
          "model_module": "@jupyter-widgets/base",
          "model_name": "LayoutModel",
          "state": {
            "_view_name": "LayoutView",
            "grid_template_rows": null,
            "right": null,
            "justify_content": null,
            "_view_module": "@jupyter-widgets/base",
            "overflow": null,
            "_model_module_version": "1.2.0",
            "_view_count": null,
            "flex_flow": null,
            "width": null,
            "min_width": null,
            "border": null,
            "align_items": null,
            "bottom": null,
            "_model_module": "@jupyter-widgets/base",
            "top": null,
            "grid_column": null,
            "overflow_y": null,
            "overflow_x": null,
            "grid_auto_flow": null,
            "grid_area": null,
            "grid_template_columns": null,
            "flex": null,
            "_model_name": "LayoutModel",
            "justify_items": null,
            "grid_row": null,
            "max_height": null,
            "align_content": null,
            "visibility": null,
            "align_self": null,
            "height": null,
            "min_height": null,
            "padding": null,
            "grid_auto_rows": null,
            "grid_gap": null,
            "max_width": null,
            "order": null,
            "_view_module_version": "1.2.0",
            "grid_template_areas": null,
            "object_position": null,
            "object_fit": null,
            "grid_auto_columns": null,
            "margin": null,
            "display": null,
            "left": null
          }
        },
        "e390293c324b44a3a46eda6cf1eadce5": {
          "model_module": "@jupyter-widgets/controls",
          "model_name": "IntProgressModel",
          "state": {
            "_view_name": "ProgressView",
            "style": "IPY_MODEL_e21b5ed3ee8c41f18dbf597902410417",
            "_dom_classes": [],
            "description": "",
            "_model_name": "IntProgressModel",
            "bar_style": "success",
            "max": 46827520,
            "_view_module": "@jupyter-widgets/controls",
            "_model_module_version": "1.5.0",
            "value": 46827520,
            "_view_count": null,
            "_view_module_version": "1.5.0",
            "orientation": "horizontal",
            "min": 0,
            "description_tooltip": null,
            "_model_module": "@jupyter-widgets/controls",
            "layout": "IPY_MODEL_0d221bd15c1246458b0d49dcfbe2270f"
          }
        },
        "f50c99720e30437aaec892392282919c": {
          "model_module": "@jupyter-widgets/controls",
          "model_name": "HTMLModel",
          "state": {
            "_view_name": "HTMLView",
            "style": "IPY_MODEL_3eecdf1d7aab4a468c60a9ffe1a25876",
            "_dom_classes": [],
            "description": "",
            "_model_name": "HTMLModel",
            "placeholder": "​",
            "_view_module": "@jupyter-widgets/controls",
            "_model_module_version": "1.5.0",
            "value": "100% 44.7M/44.7M [00:00&lt;00:00, 236MB/s]",
            "_view_count": null,
            "_view_module_version": "1.5.0",
            "description_tooltip": null,
            "_model_module": "@jupyter-widgets/controls",
            "layout": "IPY_MODEL_6cfc77196cea416da738ff179d22c261"
          }
        },
        "e21b5ed3ee8c41f18dbf597902410417": {
          "model_module": "@jupyter-widgets/controls",
          "model_name": "ProgressStyleModel",
          "state": {
            "_view_name": "StyleView",
            "_model_name": "ProgressStyleModel",
            "description_width": "",
            "_view_module": "@jupyter-widgets/base",
            "_model_module_version": "1.5.0",
            "_view_count": null,
            "_view_module_version": "1.2.0",
            "bar_color": null,
            "_model_module": "@jupyter-widgets/controls"
          }
        },
        "0d221bd15c1246458b0d49dcfbe2270f": {
          "model_module": "@jupyter-widgets/base",
          "model_name": "LayoutModel",
          "state": {
            "_view_name": "LayoutView",
            "grid_template_rows": null,
            "right": null,
            "justify_content": null,
            "_view_module": "@jupyter-widgets/base",
            "overflow": null,
            "_model_module_version": "1.2.0",
            "_view_count": null,
            "flex_flow": null,
            "width": null,
            "min_width": null,
            "border": null,
            "align_items": null,
            "bottom": null,
            "_model_module": "@jupyter-widgets/base",
            "top": null,
            "grid_column": null,
            "overflow_y": null,
            "overflow_x": null,
            "grid_auto_flow": null,
            "grid_area": null,
            "grid_template_columns": null,
            "flex": null,
            "_model_name": "LayoutModel",
            "justify_items": null,
            "grid_row": null,
            "max_height": null,
            "align_content": null,
            "visibility": null,
            "align_self": null,
            "height": null,
            "min_height": null,
            "padding": null,
            "grid_auto_rows": null,
            "grid_gap": null,
            "max_width": null,
            "order": null,
            "_view_module_version": "1.2.0",
            "grid_template_areas": null,
            "object_position": null,
            "object_fit": null,
            "grid_auto_columns": null,
            "margin": null,
            "display": null,
            "left": null
          }
        },
        "3eecdf1d7aab4a468c60a9ffe1a25876": {
          "model_module": "@jupyter-widgets/controls",
          "model_name": "DescriptionStyleModel",
          "state": {
            "_view_name": "StyleView",
            "_model_name": "DescriptionStyleModel",
            "description_width": "",
            "_view_module": "@jupyter-widgets/base",
            "_model_module_version": "1.5.0",
            "_view_count": null,
            "_view_module_version": "1.2.0",
            "_model_module": "@jupyter-widgets/controls"
          }
        },
        "6cfc77196cea416da738ff179d22c261": {
          "model_module": "@jupyter-widgets/base",
          "model_name": "LayoutModel",
          "state": {
            "_view_name": "LayoutView",
            "grid_template_rows": null,
            "right": null,
            "justify_content": null,
            "_view_module": "@jupyter-widgets/base",
            "overflow": null,
            "_model_module_version": "1.2.0",
            "_view_count": null,
            "flex_flow": null,
            "width": null,
            "min_width": null,
            "border": null,
            "align_items": null,
            "bottom": null,
            "_model_module": "@jupyter-widgets/base",
            "top": null,
            "grid_column": null,
            "overflow_y": null,
            "overflow_x": null,
            "grid_auto_flow": null,
            "grid_area": null,
            "grid_template_columns": null,
            "flex": null,
            "_model_name": "LayoutModel",
            "justify_items": null,
            "grid_row": null,
            "max_height": null,
            "align_content": null,
            "visibility": null,
            "align_self": null,
            "height": null,
            "min_height": null,
            "padding": null,
            "grid_auto_rows": null,
            "grid_gap": null,
            "max_width": null,
            "order": null,
            "_view_module_version": "1.2.0",
            "grid_template_areas": null,
            "object_position": null,
            "object_fit": null,
            "grid_auto_columns": null,
            "margin": null,
            "display": null,
            "left": null
          }
        }
      }
    }
  },
  "cells": [
    {
      "cell_type": "markdown",
      "metadata": {
        "id": "th6hiSsy4uWK",
        "colab_type": "text"
      },
      "source": [
        "## HackerEarth Deep Learning Challenge Solution\n",
        "\n",
        "#### Resnet18 Trnsfer Learning simple model with PyTorch\n",
        "\n",
        "Image Augmentation is done to boost the dataset."
      ]
    },
    {
      "cell_type": "code",
      "metadata": {
        "id": "KHlod7iCZyq-",
        "colab_type": "code",
        "outputId": "ab273694-9153-46bf-e8ba-25632416c9b0",
        "colab": {
          "base_uri": "https://localhost:8080/",
          "height": 306
        }
      },
      "source": [
        "#!pip install git+https://github.com/aleju/imgaug\n",
        "from imgaug import augmenters as iaa\n",
        "import imgaug as ia\n",
        "!nvidia-smi"
      ],
      "execution_count": 1,
      "outputs": [
        {
          "output_type": "stream",
          "text": [
            "Tue Feb 25 09:05:35 2020       \n",
            "+-----------------------------------------------------------------------------+\n",
            "| NVIDIA-SMI 440.48.02    Driver Version: 418.67       CUDA Version: 10.1     |\n",
            "|-------------------------------+----------------------+----------------------+\n",
            "| GPU  Name        Persistence-M| Bus-Id        Disp.A | Volatile Uncorr. ECC |\n",
            "| Fan  Temp  Perf  Pwr:Usage/Cap|         Memory-Usage | GPU-Util  Compute M. |\n",
            "|===============================+======================+======================|\n",
            "|   0  Tesla P4            Off  | 00000000:00:04.0 Off |                    0 |\n",
            "| N/A   38C    P8     7W /  75W |      0MiB /  7611MiB |      0%      Default |\n",
            "+-------------------------------+----------------------+----------------------+\n",
            "                                                                               \n",
            "+-----------------------------------------------------------------------------+\n",
            "| Processes:                                                       GPU Memory |\n",
            "|  GPU       PID   Type   Process name                             Usage      |\n",
            "|=============================================================================|\n",
            "|  No running processes found                                                 |\n",
            "+-----------------------------------------------------------------------------+\n"
          ],
          "name": "stdout"
        }
      ]
    },
    {
      "cell_type": "code",
      "metadata": {
        "id": "Y4Z_Xd1Hbbes",
        "colab_type": "code",
        "colab": {}
      },
      "source": [
        "!cp 'drive/My Drive/DL_GALA/9d34462453e311ea.zip' .\n",
        "!unzip 9d34462453e311ea.zip"
      ],
      "execution_count": 0,
      "outputs": []
    },
    {
      "cell_type": "markdown",
      "metadata": {
        "id": "7jsmwA8V5fcu",
        "colab_type": "text"
      },
      "source": [
        "Import all necessary libraries"
      ]
    },
    {
      "cell_type": "code",
      "metadata": {
        "id": "T_Zbx84YbfS5",
        "colab_type": "code",
        "colab": {}
      },
      "source": [
        "%matplotlib inline\n",
        "import torchvision\n",
        "import torchvision.datasets as dset\n",
        "import torchvision.transforms as transforms\n",
        "from torch.utils.data import DataLoader,Dataset\n",
        "import matplotlib.pyplot as plt\n",
        "import torchvision.utils\n",
        "import numpy as np\n",
        "import random\n",
        "from PIL import Image\n",
        "import torch\n",
        "from torch.autograd import Variable\n",
        "import PIL.ImageOps    \n",
        "import torch.nn as nn\n",
        "import torchvision.models as models\n",
        "from torch import optim\n",
        "import torch.nn.functional as F"
      ],
      "execution_count": 0,
      "outputs": []
    },
    {
      "cell_type": "markdown",
      "metadata": {
        "id": "mSaivA6o5jsg",
        "colab_type": "text"
      },
      "source": [
        "Plotting images and analysing them"
      ]
    },
    {
      "cell_type": "code",
      "metadata": {
        "id": "XTe6JmyLcQIp",
        "colab_type": "code",
        "colab": {}
      },
      "source": [
        "def imshow(img,text=None,should_save=False):\n",
        "    npimg = img.numpy()\n",
        "    plt.axis(\"off\")\n",
        "    if text:\n",
        "        plt.text(75, 8, text, style='italic',fontweight='bold',\n",
        "            bbox={'facecolor':'white', 'alpha':0.8, 'pad':10})\n",
        "    plt.imshow(np.transpose(npimg, (1, 2, 0)))\n",
        "    plt.show()    \n",
        "\n",
        "def show_plot(iteration,loss):\n",
        "    plt.plot(iteration,loss)\n",
        "    plt.show()"
      ],
      "execution_count": 0,
      "outputs": []
    },
    {
      "cell_type": "markdown",
      "metadata": {
        "id": "JE_bZHK45od6",
        "colab_type": "text"
      },
      "source": [
        "Configuration parameters"
      ]
    },
    {
      "cell_type": "code",
      "metadata": {
        "id": "VbUi8kZ2cR82",
        "colab_type": "code",
        "colab": {}
      },
      "source": [
        "class Config():\n",
        "    training_dir = \"dataset/Train Images\"\n",
        "    testing_dir = \"dataset/Test Images/\"\n",
        "    training_csv = \"dataset/train.csv\"\n",
        "    testing_csv = \"dataset/test.csv\"\n",
        "    train_batch_size = 32\n",
        "    train_number_epochs = 100"
      ],
      "execution_count": 0,
      "outputs": []
    },
    {
      "cell_type": "markdown",
      "metadata": {
        "id": "Ps5GgYFD6AFJ",
        "colab_type": "text"
      },
      "source": [
        "Load the dataset csv files and then create dict for class files"
      ]
    },
    {
      "cell_type": "code",
      "metadata": {
        "id": "LPYVvik1cztp",
        "colab_type": "code",
        "colab": {}
      },
      "source": [
        "import pandas as pd\n",
        "\n",
        "train_df = pd.read_csv('dataset/train.csv')\n",
        "\n",
        "test_df = pd.read_csv('dataset/test.csv')\n",
        "\n",
        "classes = train_df.Class.unique()\n",
        "label_to_int = {item:idx for idx, item in enumerate(classes)}\n",
        "int_to_label = {idx:item for idx, item in enumerate(classes)}\n",
        "label_to_int, int_to_label"
      ],
      "execution_count": 0,
      "outputs": []
    },
    {
      "cell_type": "markdown",
      "metadata": {
        "id": "JZiO2moA6G_n",
        "colab_type": "text"
      },
      "source": [
        "Dataset loader, train loader returns image and label from csv"
      ]
    },
    {
      "cell_type": "code",
      "metadata": {
        "id": "XcQnmi1TcqLK",
        "colab_type": "code",
        "colab": {}
      },
      "source": [
        "class GalaDataset(Dataset):\n",
        "    \"\"\"GalaDataset dataset.\"\"\"\n",
        "\n",
        "    def __init__(self, csv_file, root_dir, transform=None):\n",
        "        \"\"\"\n",
        "        Args:\n",
        "            csv_file (string): Path to the csv file with images and classes.\n",
        "            root_dir (string): Directory with all the images.\n",
        "            transform (callable, optional): Optional transform to be applied\n",
        "                on a sample.\n",
        "        \"\"\"\n",
        "        self.dataframe = pd.read_csv(csv_file)\n",
        "        self.root_dir = root_dir\n",
        "        self.transform = transform\n",
        "\n",
        "    def __len__(self):\n",
        "        return len(self.dataframe)\n",
        "\n",
        "    def __getitem__(self, idx):\n",
        "        if torch.is_tensor(idx):\n",
        "            idx = idx.tolist()\n",
        "\n",
        "        img_name = os.path.join(self.root_dir,\n",
        "                                self.dataframe.iloc[idx, 0])\n",
        "        image = Image.open(img_name)\n",
        "        image = image.convert('RGB')\n",
        "        label = self.dataframe.iloc[idx, 1]\n",
        "\n",
        "        label = label_to_int[label]\n",
        "        \n",
        "\n",
        "        if self.transform:\n",
        "            image = self.transform(image)\n",
        "\n",
        "        return image, label"
      ],
      "execution_count": 0,
      "outputs": []
    },
    {
      "cell_type": "markdown",
      "metadata": {
        "id": "BRtXv9vN6RHc",
        "colab_type": "text"
      },
      "source": [
        "Augmentation of images and creating the Dataloader for PyTorch"
      ]
    },
    {
      "cell_type": "code",
      "metadata": {
        "id": "0T0n4pB2cyzk",
        "colab_type": "code",
        "colab": {}
      },
      "source": [
        "class ImgAugTransform:\n",
        "  def __init__(self):\n",
        "    self.aug = iaa.Sequential([\n",
        "        iaa.Sometimes(0.25, iaa.GaussianBlur(sigma=(0, 3.0))),\n",
        "        iaa.Fliplr(0.5),\n",
        "        iaa.Affine(rotate=(-20, 20), mode='symmetric'),\n",
        "        iaa.Sometimes(0.25,\n",
        "                      iaa.OneOf([iaa.Dropout(p=(0, 0.1)),\n",
        "                                 iaa.CoarseDropout(0.1, size_percent=0.01)])),\n",
        "        iaa.AddToHueAndSaturation(value=(-10, 10), per_channel=True)\n",
        "    ])\n",
        "      \n",
        "  def __call__(self, img):\n",
        "    img = np.array(img)\n",
        "    return self.aug.augment_image(img)\n",
        "\n",
        "\n",
        "train_dataset = GalaDataset(csv_file =Config.training_csv, root_dir=Config.training_dir,\n",
        "                                        transform=transforms.Compose([\n",
        "    transforms.Resize((224, 224)),\n",
        "    transforms.RandomHorizontalFlip(),\n",
        "    ImgAugTransform(),\n",
        "    # transforms.CenterCrop(224),\n",
        "    transforms.ToTensor(),\n",
        "    transforms.Normalize(mean=[0.485, 0.456, 0.406], std=[0.229, 0.224, 0.225]),\n",
        "]))"
      ],
      "execution_count": 0,
      "outputs": []
    },
    {
      "cell_type": "markdown",
      "metadata": {
        "id": "GLbYrkjR6WQp",
        "colab_type": "text"
      },
      "source": [
        "Visualize and analyse few images."
      ]
    },
    {
      "cell_type": "code",
      "metadata": {
        "id": "5jDAEQrseF1I",
        "colab_type": "code",
        "outputId": "5687586f-dce5-42a4-b0d7-f3ea17c2538a",
        "colab": {
          "base_uri": "https://localhost:8080/",
          "height": 282
        }
      },
      "source": [
        "import os\n",
        "vis_dataloader = DataLoader(train_dataset,\n",
        "                        shuffle=True,\n",
        "                        num_workers=0,\n",
        "                        batch_size=8)\n",
        "dataiter = iter(vis_dataloader)\n",
        "\n",
        "\n",
        "example_batch = next(dataiter)\n",
        "# concatenated = torch.cat((example_batch[0],example_batch[1]),0)\n",
        "print(example_batch[1])\n",
        "imshow(example_batch[0][6])"
      ],
      "execution_count": 10,
      "outputs": [
        {
          "output_type": "stream",
          "text": [
            "Clipping input data to the valid range for imshow with RGB data ([0..1] for floats or [0..255] for integers).\n"
          ],
          "name": "stderr"
        },
        {
          "output_type": "stream",
          "text": [
            "tensor([2, 0, 0, 3, 2, 0, 2, 0])\n"
          ],
          "name": "stdout"
        },
        {
          "output_type": "display_data",
          "data": {
            "image/png": "[encoded data removed]",
            "text/plain": [
              "<Figure size 432x288 with 1 Axes>"
            ]
          },
          "metadata": {
            "tags": []
          }
        }
      ]
    },
    {
      "cell_type": "markdown",
      "metadata": {
        "id": "8oDlKcDa6ajY",
        "colab_type": "text"
      },
      "source": [
        "Data distribution across classes"
      ]
    },
    {
      "cell_type": "code",
      "metadata": {
        "id": "GSretZhoc7Mj",
        "colab_type": "code",
        "outputId": "7f739b4c-4ab7-4854-998f-1e3c5fb31cfa",
        "colab": {
          "base_uri": "https://localhost:8080/",
          "height": 399
        }
      },
      "source": [
        "train_df.groupby('Class').count().plot.bar()"
      ],
      "execution_count": 11,
      "outputs": [
        {
          "output_type": "execute_result",
          "data": {
            "text/plain": [
              "<matplotlib.axes._subplots.AxesSubplot at 0x7faf9d379198>"
            ]
          },
          "metadata": {
            "tags": []
          },
          "execution_count": 11
        },
        {
          "output_type": "display_data",
          "data": {
            "image/png": "[encoded data removed]",
            "text/plain": [
              "<Figure size 432x288 with 1 Axes>"
            ]
          },
          "metadata": {
            "tags": []
          }
        }
      ]
    },
    {
      "cell_type": "markdown",
      "metadata": {
        "id": "q2-FU8do6epR",
        "colab_type": "text"
      },
      "source": [
        "Set device for training and loading data"
      ]
    },
    {
      "cell_type": "code",
      "metadata": {
        "id": "iA-oC8OFdDAs",
        "colab_type": "code",
        "colab": {}
      },
      "source": [
        "device = torch.device(\"cuda:0\" if torch.cuda.is_available() else \"cpu\")"
      ],
      "execution_count": 0,
      "outputs": []
    },
    {
      "cell_type": "markdown",
      "metadata": {
        "id": "f448ByH96khH",
        "colab_type": "text"
      },
      "source": [
        "Model trainer code"
      ]
    },
    {
      "cell_type": "code",
      "metadata": {
        "id": "vCNSD68M0uVD",
        "colab_type": "code",
        "colab": {}
      },
      "source": [
        "def train_model(model, criterion, optimizer, scheduler, num_epochs=25):\n",
        "    since = time.time()\n",
        "\n",
        "    best_model_wts = copy.deepcopy(model.state_dict())\n",
        "    best_acc = 0.0\n",
        "\n",
        "    dataloader = DataLoader(siamese_dataset,\n",
        "                        shuffle=True,\n",
        "                        num_workers=0,\n",
        "                        batch_size=8)\n",
        "    # dataiter = iter(vis_dataloader)\n",
        "\n",
        "\n",
        "    # example_batch = next(dataiter)\n",
        "# concatenated = torch.cat((exa\n",
        "\n",
        "    for epoch in range(num_epochs):\n",
        "        print('Epoch {}/{}'.format(epoch, num_epochs - 1))\n",
        "        print('-' * 10)\n",
        "\n",
        "        # Each epoch has a training and validation phase\n",
        "        for phase in ['train', 'val']:\n",
        "            if phase == 'train':\n",
        "                model.train()  # Set model to training mode\n",
        "            else:\n",
        "                model.eval()   # Set model to evaluate mode\n",
        "\n",
        "            running_loss = 0.0\n",
        "            running_corrects = 0\n",
        "\n",
        "            # Iterate over data.\n",
        "            for inputs, labels in dataloader:\n",
        "                inputs = inputs.to(device)\n",
        "                labels = labels.to(device)\n",
        "\n",
        "                # zero the parameter gradients\n",
        "                optimizer.zero_grad()\n",
        "\n",
        "                # forward\n",
        "                # track history if only in train\n",
        "                with torch.set_grad_enabled(phase == 'train'):\n",
        "                    outputs = model(inputs)\n",
        "                    _, preds = torch.max(outputs, 1)\n",
        "                    loss = criterion(outputs, labels)\n",
        "\n",
        "                    # backward + optimize only if in training phase\n",
        "                    if phase == 'train':\n",
        "                        loss.backward()\n",
        "                        optimizer.step()\n",
        "\n",
        "                # statistics\n",
        "                running_loss += loss.item() * inputs.size(0)\n",
        "                running_corrects += torch.sum(preds == labels.data)\n",
        "            if phase == 'train':\n",
        "                scheduler.step()\n",
        "\n",
        "            epoch_loss = running_loss / dataloader.__len__()\n",
        "            epoch_acc = running_corrects.double() / dataloader.__len__()\n",
        "\n",
        "            print('{} Loss: {:.4f} Acc: {:.4f}'.format(\n",
        "                phase, epoch_loss, epoch_acc))\n",
        "\n",
        "            # deep copy the model\n",
        "            if phase == 'val' and epoch_acc > best_acc:\n",
        "                best_acc = epoch_acc\n",
        "                best_model_wts = copy.deepcopy(model.state_dict())\n",
        "\n",
        "        print()\n",
        "\n",
        "    time_elapsed = time.time() - since\n",
        "    print('Training complete in {:.0f}m {:.0f}s'.format(\n",
        "        time_elapsed // 60, time_elapsed % 60))\n",
        "    print('Best val Acc: {:4f}'.format(best_acc))\n",
        "\n",
        "    # load best model weights\n",
        "    model.load_state_dict(best_model_wts)\n",
        "    return model"
      ],
      "execution_count": 0,
      "outputs": []
    },
    {
      "cell_type": "markdown",
      "metadata": {
        "id": "lXFdvcRH6tY8",
        "colab_type": "text"
      },
      "source": [
        "Create the simple model structure, optimiser.\n",
        "The model architecture is simple and contains the pretrained model and a fully connected last layer."
      ]
    },
    {
      "cell_type": "code",
      "metadata": {
        "id": "KzJLK7AK018i",
        "colab_type": "code",
        "outputId": "d6183a1c-7f8d-4428-d8a7-7a878d6c3d5b",
        "colab": {
          "base_uri": "https://localhost:8080/",
          "height": 1000,
          "referenced_widgets": [
            "82900252047c4ada9d057a9fc59fafb1",
            "80408670e8344d7d9ffc428fba0088e3",
            "e390293c324b44a3a46eda6cf1eadce5",
            "f50c99720e30437aaec892392282919c",
            "e21b5ed3ee8c41f18dbf597902410417",
            "0d221bd15c1246458b0d49dcfbe2270f",
            "3eecdf1d7aab4a468c60a9ffe1a25876",
            "6cfc77196cea416da738ff179d22c261"
          ]
        }
      },
      "source": [
        "import torch.optim as optim\n",
        "from torch.optim import lr_scheduler\n",
        "import time\n",
        "import copy\n",
        "model_ft = models.resnet18(pretrained=True)\n",
        "num_ftrs = model_ft.fc.in_features\n",
        "\n",
        "\n",
        "for layer in model_ft.parameters():\n",
        "    layer.requires_grad = False\n",
        "# Here the size of each output sample is set to 2.\n",
        "# Alternatively, it can be generalized to nn.Linear(num_ftrs, len(class_names)).\n",
        "model_ft.fc = nn.Linear(num_ftrs, 4)\n",
        "\n",
        "model_ft = model_ft.to(device)\n",
        "\n",
        "criterion = nn.CrossEntropyLoss()\n",
        "\n",
        "# Observe that all parameters are being optimized\n",
        "optimizer_ft = optim.SGD(model_ft.parameters(), lr=0.001, momentum=0.9)\n",
        "\n",
        "# Decay LR by a factor of 0.1 every 7 epochs\n",
        "exp_lr_scheduler = lr_scheduler.StepLR(optimizer_ft, step_size=7, gamma=0.1)\n",
        "\n",
        "\n",
        "model_ft = train_model(model_ft, criterion, optimizer_ft, exp_lr_scheduler,\n",
        "                       num_epochs=20)"
      ],
      "execution_count": 15,
      "outputs": [
        {
          "output_type": "stream",
          "text": [
            "Downloading: \"https://download.pytorch.org/models/resnet18-5c106cde.pth\" to /root/.cache/torch/checkpoints/resnet18-5c106cde.pth\n"
          ],
          "name": "stderr"
        },
        {
          "output_type": "display_data",
          "data": {
            "application/vnd.jupyter.widget-view+json": {
              "model_id": "82900252047c4ada9d057a9fc59fafb1",
              "version_minor": 0,
              "version_major": 2
            },
            "text/plain": [
              "HBox(children=(IntProgress(value=0, max=46827520), HTML(value='')))"
            ]
          },
          "metadata": {
            "tags": []
          }
        },
        {
          "output_type": "stream",
          "text": [
            "\n",
            "Epoch 0/19\n",
            "----------\n",
            "train Loss: 7.9391 Acc: 4.8877\n",
            "val Loss: 5.5405 Acc: 5.8610\n",
            "\n",
            "Epoch 1/19\n",
            "----------\n",
            "train Loss: 6.7830 Acc: 5.4184\n",
            "val Loss: 4.3514 Acc: 6.3583\n",
            "\n",
            "Epoch 2/19\n",
            "----------\n",
            "train Loss: 5.7699 Acc: 5.7714\n",
            "val Loss: 3.3579 Acc: 6.7420\n",
            "\n",
            "Epoch 3/19\n",
            "----------\n",
            "train Loss: 5.3868 Acc: 5.9559\n",
            "val Loss: 3.3990 Acc: 6.6832\n",
            "\n",
            "Epoch 4/19\n",
            "----------\n",
            "train Loss: 5.1413 Acc: 6.0735\n",
            "val Loss: 3.4659 Acc: 6.6684\n",
            "\n",
            "Epoch 5/19\n",
            "----------\n",
            "train Loss: 4.5363 Acc: 6.3222\n",
            "val Loss: 2.7822 Acc: 6.9799\n",
            "\n",
            "Epoch 6/19\n",
            "----------\n",
            "train Loss: 4.1381 Acc: 6.5281\n",
            "val Loss: 2.1072 Acc: 7.2701\n",
            "\n",
            "Epoch 7/19\n",
            "----------\n",
            "train Loss: 2.9842 Acc: 6.8743\n",
            "val Loss: 1.5402 Acc: 7.4960\n",
            "\n",
            "Epoch 8/19\n",
            "----------\n",
            "train Loss: 2.6933 Acc: 7.0374\n",
            "val Loss: 1.4495 Acc: 7.4947\n",
            "\n",
            "Epoch 9/19\n",
            "----------\n",
            "train Loss: 2.4930 Acc: 7.1203\n",
            "val Loss: 1.2815 Acc: 7.5842\n",
            "\n",
            "Epoch 10/19\n",
            "----------\n",
            "train Loss: 2.2683 Acc: 7.1898\n",
            "val Loss: 1.1041 Acc: 7.6471\n",
            "\n",
            "Epoch 11/19\n",
            "----------\n",
            "train Loss: 2.2322 Acc: 7.1912\n",
            "val Loss: 1.0708 Acc: 7.6471\n",
            "\n",
            "Epoch 12/19\n",
            "----------\n",
            "train Loss: 2.2109 Acc: 7.1885\n",
            "val Loss: 1.0146 Acc: 7.6511\n",
            "\n",
            "Epoch 13/19\n",
            "----------\n",
            "train Loss: 2.0490 Acc: 7.2567\n",
            "val Loss: 0.9444 Acc: 7.6965\n",
            "\n",
            "Epoch 14/19\n",
            "----------\n",
            "train Loss: 1.9302 Acc: 7.3356\n",
            "val Loss: 0.9888 Acc: 7.6872\n",
            "\n",
            "Epoch 15/19\n",
            "----------\n",
            "train Loss: 2.0507 Acc: 7.2874\n",
            "val Loss: 1.0124 Acc: 7.6738\n",
            "\n",
            "Epoch 16/19\n",
            "----------\n",
            "train Loss: 2.0247 Acc: 7.2901\n",
            "val Loss: 0.9704 Acc: 7.7032\n",
            "\n",
            "Epoch 17/19\n",
            "----------\n",
            "train Loss: 1.9891 Acc: 7.2955\n",
            "val Loss: 0.9983 Acc: 7.6858\n",
            "\n",
            "Epoch 18/19\n",
            "----------\n",
            "train Loss: 1.9961 Acc: 7.2914\n",
            "val Loss: 1.0261 Acc: 7.6644\n",
            "\n",
            "Epoch 19/19\n",
            "----------\n",
            "train Loss: 1.8699 Acc: 7.3489\n",
            "val Loss: 0.9741 Acc: 7.6925\n",
            "\n",
            "Training complete in 51m 1s\n",
            "Best val Acc: 7.703209\n"
          ],
          "name": "stdout"
        }
      ]
    },
    {
      "cell_type": "markdown",
      "metadata": {
        "id": "M5r-8rj065SZ",
        "colab_type": "text"
      },
      "source": [
        "Test Dataset loader"
      ]
    },
    {
      "cell_type": "code",
      "metadata": {
        "id": "moAo3mh1zQLp",
        "colab_type": "code",
        "colab": {}
      },
      "source": [
        "class GalaDatasetTest(Dataset):\n",
        "    \"\"\"GalaDataset dataset.\"\"\"\n",
        "\n",
        "    def __init__(self, csv_file, root_dir, transform=None):\n",
        "        \"\"\"\n",
        "        Args:\n",
        "            csv_file (string): Path to the csv file with images and classes.\n",
        "            root_dir (string): Directory with all the images.\n",
        "            transform (callable, optional): Optional transform to be applied\n",
        "                on a sample.\n",
        "        \"\"\"\n",
        "        self.dataframe = pd.read_csv(csv_file)\n",
        "        self.root_dir = root_dir\n",
        "        self.transform = transform\n",
        "\n",
        "    def __len__(self):\n",
        "        return len(self.dataframe)\n",
        "\n",
        "    def __getitem__(self, idx):\n",
        "        if torch.is_tensor(idx):\n",
        "            idx = idx.tolist()\n",
        "\n",
        "        img_name = os.path.join(self.root_dir,\n",
        "                                self.dataframe.iloc[idx, 0])\n",
        "        image = Image.open(img_name)\n",
        "        image = image.convert('RGB')\n",
        "\n",
        "        \n",
        "\n",
        "        if self.transform:\n",
        "            image = self.transform(image)\n",
        "\n",
        "        return image, self.dataframe.iloc[idx, 0]\n",
        "\n",
        "test_loader = GalaDatasetTest(csv_file =Config.testing_csv, root_dir=Config.testing_dir,\n",
        "                                        transform=transforms.Compose([\n",
        "    transforms.Resize((224, 224)),\n",
        "    transforms.RandomHorizontalFlip(),\n",
        "    # ImgAugTransform(),\n",
        "    # transforms.CenterCrop(224),\n",
        "    transforms.ToTensor(),\n",
        "    transforms.Normalize(mean=[0.485, 0.456, 0.406], std=[0.229, 0.224, 0.225]),\n",
        "]))\n",
        "\n",
        "test_loader = DataLoader(test_loader,\n",
        "                        shuffle=True,\n",
        "                        num_workers=0,\n",
        "                        batch_size=8)\n"
      ],
      "execution_count": 0,
      "outputs": []
    },
    {
      "cell_type": "markdown",
      "metadata": {
        "id": "5wRLR7Td68OM",
        "colab_type": "text"
      },
      "source": [
        "Predict for all the data in the test csv with the trained model"
      ]
    },
    {
      "cell_type": "code",
      "metadata": {
        "id": "6IBeRrLj1FgE",
        "colab_type": "code",
        "colab": {
          "base_uri": "https://localhost:8080/",
          "height": 34
        },
        "outputId": "4b6084eb-4299-4afa-9621-16180e06300d"
      },
      "source": [
        "def predict_test(model):\n",
        "    was_training = model.training\n",
        "    model.eval()\n",
        "    images_so_far = 0\n",
        "    fig = plt.figure()\n",
        "    res = []\n",
        "    with torch.no_grad():\n",
        "        for i, (inputs, row) in enumerate(test_loader):\n",
        "            inputs = inputs.to(device)\n",
        "\n",
        "            outputs = model(inputs)\n",
        "            _, preds = torch.max(outputs, 1)\n",
        "\n",
        "            for j in range(inputs.size()[0]):\n",
        "                \n",
        "                res.append([row[j], int_to_label[preds.tolist()[j]]])\n",
        "                \n",
        "        \n",
        "        return res\n",
        "\n",
        "res = predict_test(model_ft)"
      ],
      "execution_count": 55,
      "outputs": [
        {
          "output_type": "display_data",
          "data": {
            "text/plain": [
              "<Figure size 432x288 with 0 Axes>"
            ]
          },
          "metadata": {
            "tags": []
          }
        }
      ]
    },
    {
      "cell_type": "markdown",
      "metadata": {
        "id": "jZBsVufH7BIH",
        "colab_type": "text"
      },
      "source": [
        "Predictions"
      ]
    },
    {
      "cell_type": "code",
      "metadata": {
        "id": "uOEp8xLa4k__",
        "colab_type": "code",
        "colab": {
          "base_uri": "https://localhost:8080/",
          "height": 419
        },
        "outputId": "5597dba2-8345-4438-f144-8d6de676b134"
      },
      "source": [
        "pd.DataFrame(res, columns = ['Image', 'Class'])"
      ],
      "execution_count": 60,
      "outputs": [
        {
          "output_type": "execute_result",
          "data": {
            "text/html": [
              "<div>\n",
              "<style scoped>\n",
              "    .dataframe tbody tr th:only-of-type {\n",
              "        vertical-align: middle;\n",
              "    }\n",
              "\n",
              "    .dataframe tbody tr th {\n",
              "        vertical-align: top;\n",
              "    }\n",
              "\n",
              "    .dataframe thead th {\n",
              "        text-align: right;\n",
              "    }\n",
              "</style>\n",
              "<table border=\"1\" class=\"dataframe\">\n",
              "  <thead>\n",
              "    <tr style=\"text-align: right;\">\n",
              "      <th></th>\n",
              "      <th>Image</th>\n",
              "      <th>Class</th>\n",
              "    </tr>\n",
              "  </thead>\n",
              "  <tbody>\n",
              "    <tr>\n",
              "      <th>0</th>\n",
              "      <td>image7199.jpg</td>\n",
              "      <td>misc</td>\n",
              "    </tr>\n",
              "    <tr>\n",
              "      <th>1</th>\n",
              "      <td>image9867.jpg</td>\n",
              "      <td>misc</td>\n",
              "    </tr>\n",
              "    <tr>\n",
              "      <th>2</th>\n",
              "      <td>image8135.jpg</td>\n",
              "      <td>misc</td>\n",
              "    </tr>\n",
              "    <tr>\n",
              "      <th>3</th>\n",
              "      <td>image1822.jpg</td>\n",
              "      <td>Food</td>\n",
              "    </tr>\n",
              "    <tr>\n",
              "      <th>4</th>\n",
              "      <td>image6818.jpg</td>\n",
              "      <td>Attire</td>\n",
              "    </tr>\n",
              "    <tr>\n",
              "      <th>...</th>\n",
              "      <td>...</td>\n",
              "      <td>...</td>\n",
              "    </tr>\n",
              "    <tr>\n",
              "      <th>3214</th>\n",
              "      <td>image2633.jpg</td>\n",
              "      <td>Attire</td>\n",
              "    </tr>\n",
              "    <tr>\n",
              "      <th>3215</th>\n",
              "      <td>image10765.jpg</td>\n",
              "      <td>Food</td>\n",
              "    </tr>\n",
              "    <tr>\n",
              "      <th>3216</th>\n",
              "      <td>image3090.jpg</td>\n",
              "      <td>misc</td>\n",
              "    </tr>\n",
              "    <tr>\n",
              "      <th>3217</th>\n",
              "      <td>image10241.jpg</td>\n",
              "      <td>Attire</td>\n",
              "    </tr>\n",
              "    <tr>\n",
              "      <th>3218</th>\n",
              "      <td>image4205.jpg</td>\n",
              "      <td>Attire</td>\n",
              "    </tr>\n",
              "  </tbody>\n",
              "</table>\n",
              "<p>3219 rows × 2 columns</p>\n",
              "</div>"
            ],
            "text/plain": [
              "               Image   Class\n",
              "0      image7199.jpg    misc\n",
              "1      image9867.jpg    misc\n",
              "2      image8135.jpg    misc\n",
              "3      image1822.jpg    Food\n",
              "4      image6818.jpg  Attire\n",
              "...              ...     ...\n",
              "3214   image2633.jpg  Attire\n",
              "3215  image10765.jpg    Food\n",
              "3216   image3090.jpg    misc\n",
              "3217  image10241.jpg  Attire\n",
              "3218   image4205.jpg  Attire\n",
              "\n",
              "[3219 rows x 2 columns]"
            ]
          },
          "metadata": {
            "tags": []
          },
          "execution_count": 60
        }
      ]
    },
    {
      "cell_type": "markdown",
      "metadata": {
        "id": "FQnfPrUJ7Cr5",
        "colab_type": "text"
      },
      "source": [
        "Original test csv"
      ]
    },
    {
      "cell_type": "code",
      "metadata": {
        "id": "N4hhq5RM7Af_",
        "colab_type": "code",
        "colab": {
          "base_uri": "https://localhost:8080/",
          "height": 419
        },
        "outputId": "9da53eec-a651-432c-dcfe-b51479a45348"
      },
      "source": [
        "test_df"
      ],
      "execution_count": 65,
      "outputs": [
        {
          "output_type": "execute_result",
          "data": {
            "text/html": [
              "<div>\n",
              "<style scoped>\n",
              "    .dataframe tbody tr th:only-of-type {\n",
              "        vertical-align: middle;\n",
              "    }\n",
              "\n",
              "    .dataframe tbody tr th {\n",
              "        vertical-align: top;\n",
              "    }\n",
              "\n",
              "    .dataframe thead th {\n",
              "        text-align: right;\n",
              "    }\n",
              "</style>\n",
              "<table border=\"1\" class=\"dataframe\">\n",
              "  <thead>\n",
              "    <tr style=\"text-align: right;\">\n",
              "      <th></th>\n",
              "      <th>Image</th>\n",
              "    </tr>\n",
              "  </thead>\n",
              "  <tbody>\n",
              "    <tr>\n",
              "      <th>0</th>\n",
              "      <td>image6245.jpg</td>\n",
              "    </tr>\n",
              "    <tr>\n",
              "      <th>1</th>\n",
              "      <td>image10409.jpg</td>\n",
              "    </tr>\n",
              "    <tr>\n",
              "      <th>2</th>\n",
              "      <td>image8692.jpg</td>\n",
              "    </tr>\n",
              "    <tr>\n",
              "      <th>3</th>\n",
              "      <td>image10517.jpg</td>\n",
              "    </tr>\n",
              "    <tr>\n",
              "      <th>4</th>\n",
              "      <td>image2580.jpg</td>\n",
              "    </tr>\n",
              "    <tr>\n",
              "      <th>...</th>\n",
              "      <td>...</td>\n",
              "    </tr>\n",
              "    <tr>\n",
              "      <th>3214</th>\n",
              "      <td>image4968.jpg</td>\n",
              "    </tr>\n",
              "    <tr>\n",
              "      <th>3215</th>\n",
              "      <td>image6673.jpg</td>\n",
              "    </tr>\n",
              "    <tr>\n",
              "      <th>3216</th>\n",
              "      <td>image3442.jpg</td>\n",
              "    </tr>\n",
              "    <tr>\n",
              "      <th>3217</th>\n",
              "      <td>image8178.jpg</td>\n",
              "    </tr>\n",
              "    <tr>\n",
              "      <th>3218</th>\n",
              "      <td>image5367.jpg</td>\n",
              "    </tr>\n",
              "  </tbody>\n",
              "</table>\n",
              "<p>3219 rows × 1 columns</p>\n",
              "</div>"
            ],
            "text/plain": [
              "               Image\n",
              "0      image6245.jpg\n",
              "1     image10409.jpg\n",
              "2      image8692.jpg\n",
              "3     image10517.jpg\n",
              "4      image2580.jpg\n",
              "...              ...\n",
              "3214   image4968.jpg\n",
              "3215   image6673.jpg\n",
              "3216   image3442.jpg\n",
              "3217   image8178.jpg\n",
              "3218   image5367.jpg\n",
              "\n",
              "[3219 rows x 1 columns]"
            ]
          },
          "metadata": {
            "tags": []
          },
          "execution_count": 65
        }
      ]
    },
    {
      "cell_type": "markdown",
      "metadata": {
        "id": "ZEMwU-EW7Erj",
        "colab_type": "text"
      },
      "source": [
        "Merge predictions and create the submission csv file."
      ]
    },
    {
      "cell_type": "code",
      "metadata": {
        "id": "5IGLhpJ47eJy",
        "colab_type": "code",
        "colab": {}
      },
      "source": [
        "test_df.merge(pd.DataFrame(res, columns = ['Image', 'Class']), on='Image').to_csv('submission.csv', index=None)"
      ],
      "execution_count": 0,
      "outputs": []
    }
  ]
}